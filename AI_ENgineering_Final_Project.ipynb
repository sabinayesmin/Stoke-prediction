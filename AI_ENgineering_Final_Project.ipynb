{
  "nbformat": 4,
  "nbformat_minor": 0,
  "metadata": {
    "colab": {
      "provenance": []
    },
    "kernelspec": {
      "name": "python3",
      "display_name": "Python 3"
    },
    "language_info": {
      "name": "python"
    }
  },
  "cells": [
    {
      "cell_type": "code",
      "execution_count": 1,
      "metadata": {
        "id": "Xic4wLYF_LlO"
      },
      "outputs": [],
      "source": [
        "# Import necessary libraries\n",
        "import pandas as pd\n",
        "import numpy as np\n",
        "import matplotlib.pyplot as plt\n",
        "import seaborn as sns\n",
        "from sklearn.model_selection import train_test_split, GridSearchCV\n",
        "from sklearn.preprocessing import StandardScaler, OneHotEncoder\n",
        "from sklearn.compose import ColumnTransformer\n",
        "from sklearn.pipeline import Pipeline\n",
        "from sklearn.ensemble import RandomForestClassifier\n",
        "from sklearn.metrics import accuracy_score, classification_report, roc_auc_score\n",
        "import xgboost as xgb"
      ]
    },
    {
      "cell_type": "markdown",
      "source": [
        "Laoding and exploring the data\n"
      ],
      "metadata": {
        "id": "G2qK6tUt_-OO"
      }
    },
    {
      "cell_type": "code",
      "source": [
        "# Load the dataset\n",
        "df = pd.read_csv('stroke-data.csv')  # Replace with your dataset path\n",
        "\n",
        "# Quick overview of the dataset\n",
        "print(df.head())\n",
        "print(df.info())\n",
        "\n",
        "# Check for missing values\n",
        "print(df.isnull().sum())\n",
        "\n",
        "# Visualize target distribution\n",
        "sns.countplot(x='stroke', data=df)\n",
        "plt.title(\"Target Variable Distribution\")\n",
        "plt.show()"
      ],
      "metadata": {
        "colab": {
          "base_uri": "https://localhost:8080/",
          "height": 1000
        },
        "id": "L1x-kvDGADrY",
        "outputId": "34bf7b8e-84f2-413c-ac95-3d162dccf853"
      },
      "execution_count": 3,
      "outputs": [
        {
          "output_type": "stream",
          "name": "stdout",
          "text": [
            "      id  gender   age  hypertension  heart_disease ever_married  \\\n",
            "0   9046    Male  67.0             0              1          Yes   \n",
            "1  51676  Female  61.0             0              0          Yes   \n",
            "2  31112    Male  80.0             0              1          Yes   \n",
            "3  60182  Female  49.0             0              0          Yes   \n",
            "4   1665  Female  79.0             1              0          Yes   \n",
            "\n",
            "       work_type Residence_type  avg_glucose_level   bmi   smoking_status  \\\n",
            "0        Private          Urban             228.69  36.6  formerly smoked   \n",
            "1  Self-employed          Rural             202.21   NaN     never smoked   \n",
            "2        Private          Rural             105.92  32.5     never smoked   \n",
            "3        Private          Urban             171.23  34.4           smokes   \n",
            "4  Self-employed          Rural             174.12  24.0     never smoked   \n",
            "\n",
            "   stroke  \n",
            "0       1  \n",
            "1       1  \n",
            "2       1  \n",
            "3       1  \n",
            "4       1  \n",
            "<class 'pandas.core.frame.DataFrame'>\n",
            "RangeIndex: 5110 entries, 0 to 5109\n",
            "Data columns (total 12 columns):\n",
            " #   Column             Non-Null Count  Dtype  \n",
            "---  ------             --------------  -----  \n",
            " 0   id                 5110 non-null   int64  \n",
            " 1   gender             5110 non-null   object \n",
            " 2   age                5110 non-null   float64\n",
            " 3   hypertension       5110 non-null   int64  \n",
            " 4   heart_disease      5110 non-null   int64  \n",
            " 5   ever_married       5110 non-null   object \n",
            " 6   work_type          5110 non-null   object \n",
            " 7   Residence_type     5110 non-null   object \n",
            " 8   avg_glucose_level  5110 non-null   float64\n",
            " 9   bmi                4909 non-null   float64\n",
            " 10  smoking_status     5110 non-null   object \n",
            " 11  stroke             5110 non-null   int64  \n",
            "dtypes: float64(3), int64(4), object(5)\n",
            "memory usage: 479.2+ KB\n",
            "None\n",
            "id                     0\n",
            "gender                 0\n",
            "age                    0\n",
            "hypertension           0\n",
            "heart_disease          0\n",
            "ever_married           0\n",
            "work_type              0\n",
            "Residence_type         0\n",
            "avg_glucose_level      0\n",
            "bmi                  201\n",
            "smoking_status         0\n",
            "stroke                 0\n",
            "dtype: int64\n"
          ]
        },
        {
          "output_type": "display_data",
          "data": {
            "text/plain": [
              "<Figure size 640x480 with 1 Axes>"
            ],
            "image/png": "[encoded data removed]"
          },
          "metadata": {}
        }
      ]
    },
    {
      "cell_type": "markdown",
      "source": [
        "Data Quality analysis and cleaning"
      ],
      "metadata": {
        "id": "C0LfcBYMBGlL"
      }
    },
    {
      "cell_type": "code",
      "source": [
        "# Handle missing values (example: replacing missing BMI with the median)\n",
        "df['bmi'] = df['bmi'].fillna(df['bmi'].median())\n",
        "\n",
        "# Check for duplicates and drop if necessary\n",
        "df.drop_duplicates(inplace=True)\n",
        "\n",
        "# Ensure column names are correct (strip spaces if needed)\n",
        "df.columns = df.columns.str.strip()\n",
        "print(\"Columns after stripping spaces:\", df.columns)\n",
        "\n",
        "# Categorical features and numerical features\n",
        "categorical_features = ['gender', 'ever_married', 'work_type', 'Residence_type', 'smoking_status']\n",
        "numerical_features = ['age', 'avg_glucose_level', 'bmi']\n",
        "\n",
        "# Check if all categorical features are present\n",
        "missing_columns = [col for col in categorical_features if col not in df.columns]\n",
        "if missing_columns:\n",
        "    print(f\"Missing columns: {missing_columns}\")\n",
        "else:\n",
        "    print(\"All categorical features are present.\")\n",
        "\n",
        "    # Encode categorical features using OneHotEncoder\n",
        "    encoder = OneHotEncoder(drop='first', sparse_output=False)\n",
        "\n",
        "    # Ensure that the columns exist before applying transformation\n",
        "    if all(col in df.columns for col in categorical_features):\n",
        "        encoded_cats = pd.DataFrame(encoder.fit_transform(df[categorical_features]), columns=encoder.get_feature_names_out(categorical_features))\n",
        "        df = pd.concat([df.drop(categorical_features, axis=1), encoded_cats], axis=1)\n",
        "\n",
        "        # Display the resulting DataFrame\n",
        "        print(df.head())"
      ],
      "metadata": {
        "colab": {
          "base_uri": "https://localhost:8080/"
        },
        "id": "H0HAXtbQMGNK",
        "outputId": "58cc9a63-3c1e-4fe5-c179-967740e590c2"
      },
      "execution_count": 32,
      "outputs": [
        {
          "output_type": "stream",
          "name": "stdout",
          "text": [
            "Columns after stripping spaces: Index(['id', 'age', 'hypertension', 'heart_disease', 'avg_glucose_level',\n",
            "       'bmi', 'stroke', 'gender_Male', 'gender_Other', 'ever_married_Yes',\n",
            "       'work_type_Never_worked', 'work_type_Private',\n",
            "       'work_type_Self-employed', 'work_type_children', 'Residence_type_Urban',\n",
            "       'smoking_status_formerly smoked', 'smoking_status_never smoked',\n",
            "       'smoking_status_smokes'],\n",
            "      dtype='object')\n",
            "Missing columns: ['gender', 'ever_married', 'work_type', 'Residence_type', 'smoking_status']\n"
          ]
        }
      ]
    },
    {
      "cell_type": "markdown",
      "source": [
        "Data Spliting"
      ],
      "metadata": {
        "id": "-Fz5fV9wCRFe"
      }
    },
    {
      "cell_type": "code",
      "source": [
        "# Split the data into features and target\n",
        "X = df.drop('stroke', axis=1)\n",
        "y = df['stroke']\n",
        "\n",
        "# Train-test split\n",
        "X_train, X_test, y_train, y_test = train_test_split(X, y, test_size=0.3, random_state=42, stratify=y)\n",
        "\n",
        "# Standardize numerical features\n",
        "scaler = StandardScaler()\n",
        "X_train[numerical_features] = scaler.fit_transform(X_train[numerical_features])\n",
        "X_test[numerical_features] = scaler.transform(X_test[numerical_features])\n"
      ],
      "metadata": {
        "id": "u_LqRd6aCcu9"
      },
      "execution_count": 33,
      "outputs": []
    },
    {
      "cell_type": "markdown",
      "source": [
        "Model Training and Evaluation"
      ],
      "metadata": {
        "id": "fOYourp6CkC1"
      }
    },
    {
      "cell_type": "code",
      "source": [
        "# Initialize a Random Forest classifier\n",
        "model = RandomForestClassifier(random_state=42)\n",
        "\n",
        "# Train the model\n",
        "model.fit(X_train, y_train)\n",
        "\n",
        "# Make predictions\n",
        "y_pred = model.predict(X_test)\n",
        "\n",
        "# Evaluate the model\n",
        "print(\"Accuracy:\", accuracy_score(y_test, y_pred))\n",
        "print(\"Classification Report:\\n\", classification_report(y_test, y_pred))\n",
        "\n",
        "# Compute ROC-AUC score\n",
        "y_pred_prob = model.predict_proba(X_test)[:, 1]\n",
        "print(\"ROC-AUC Score:\", roc_auc_score(y_test, y_pred_prob))\n"
      ],
      "metadata": {
        "colab": {
          "base_uri": "https://localhost:8080/"
        },
        "id": "IRUgxc4ACkvT",
        "outputId": "f91503ce-e4d5-4b33-f9fe-8a757d4ca0c4"
      },
      "execution_count": 34,
      "outputs": [
        {
          "output_type": "stream",
          "name": "stdout",
          "text": [
            "Accuracy: 0.949119373776908\n",
            "Classification Report:\n",
            "               precision    recall  f1-score   support\n",
            "\n",
            "           0       0.95      1.00      0.97      1458\n",
            "           1       0.00      0.00      0.00        75\n",
            "\n",
            "    accuracy                           0.95      1533\n",
            "   macro avg       0.48      0.50      0.49      1533\n",
            "weighted avg       0.90      0.95      0.93      1533\n",
            "\n",
            "ROC-AUC Score: 0.8094970278920897\n"
          ]
        }
      ]
    },
    {
      "cell_type": "markdown",
      "source": [
        "Model Optimization"
      ],
      "metadata": {
        "id": "2ChA9cZtCuJI"
      }
    },
    {
      "cell_type": "code",
      "source": [
        "# Hyperparameter tuning with GridSearchCV\n",
        "param_grid = {\n",
        "    'n_estimators': [100, 200, 300],\n",
        "    'max_depth': [None, 10, 20, 30],\n",
        "    'min_samples_split': [2, 5, 10]\n",
        "}\n",
        "\n",
        "grid_search = GridSearchCV(RandomForestClassifier(random_state=42), param_grid, cv=3, scoring='roc_auc', n_jobs=-1)\n",
        "grid_search.fit(X_train, y_train)\n",
        "\n",
        "# Best parameters and score\n",
        "print(\"Best Parameters:\", grid_search.best_params_)\n",
        "print(\"Best ROC-AUC Score:\", grid_search.best_score_)\n",
        "\n",
        "# Use the best model\n",
        "best_model = grid_search.best_estimator_\n"
      ],
      "metadata": {
        "colab": {
          "base_uri": "https://localhost:8080/"
        },
        "id": "ihVRT1CWCu8X",
        "outputId": "6fb86ec9-8592-41fe-cd11-1e4217a013aa"
      },
      "execution_count": 35,
      "outputs": [
        {
          "output_type": "stream",
          "name": "stdout",
          "text": [
            "Best Parameters: {'max_depth': 10, 'min_samples_split': 10, 'n_estimators': 200}\n",
            "Best ROC-AUC Score: 0.8337388815168282\n"
          ]
        }
      ]
    },
    {
      "cell_type": "markdown",
      "source": [
        " Save the Model"
      ],
      "metadata": {
        "id": "ZEHr6z9gDfZM"
      }
    },
    {
      "cell_type": "code",
      "source": [
        "import joblib\n",
        "\n",
        "# Save the trained model\n",
        "joblib.dump(best_model, 'stroke_model.pkl')"
      ],
      "metadata": {
        "colab": {
          "base_uri": "https://localhost:8080/"
        },
        "id": "DLS83e6BDgGf",
        "outputId": "1c31ccc4-e460-4922-b01e-6796c36e33ea"
      },
      "execution_count": 38,
      "outputs": [
        {
          "output_type": "execute_result",
          "data": {
            "text/plain": [
              "['stroke_model.pkl']"
            ]
          },
          "metadata": {},
          "execution_count": 38
        }
      ]
    },
    {
      "cell_type": "code",
      "source": [
        "import joblib\n",
        "\n",
        "# Save the scaler to a file\n",
        "joblib.dump(scaler, \"scaler.pkl\")"
      ],
      "metadata": {
        "colab": {
          "base_uri": "https://localhost:8080/"
        },
        "id": "gduLFl5tM-hX",
        "outputId": "9d63cc37-12a5-41e4-9dc8-5f050e7e4328"
      },
      "execution_count": 39,
      "outputs": [
        {
          "output_type": "execute_result",
          "data": {
            "text/plain": [
              "['scaler.pkl']"
            ]
          },
          "metadata": {},
          "execution_count": 39
        }
      ]
    },
    {
      "cell_type": "code",
      "source": [
        "import joblib\n",
        "\n",
        "# Save the encoder to a file\n",
        "joblib.dump(encoder, \"encoder.pkl\")"
      ],
      "metadata": {
        "colab": {
          "base_uri": "https://localhost:8080/"
        },
        "id": "lqwG2tJFNCrv",
        "outputId": "d4290b50-968b-49d2-a662-c6e243fbe325"
      },
      "execution_count": 40,
      "outputs": [
        {
          "output_type": "execute_result",
          "data": {
            "text/plain": [
              "['encoder.pkl']"
            ]
          },
          "metadata": {},
          "execution_count": 40
        }
      ]
    },
    {
      "cell_type": "markdown",
      "source": [
        "Deployment Preparation"
      ],
      "metadata": {
        "id": "d8DI_8kZD-u1"
      }
    },
    {
      "cell_type": "code",
      "source": [
        "# Create a simple Gradio interface\n",
        "import gradio as gr\n",
        "\n",
        "def predict_stroke(gender, age, hypertension, heart_disease, ever_married, work_type,\n",
        "                   Residence_type, avg_glucose_level, bmi, smoking_status):\n",
        "    # Preprocess input\n",
        "    input_data = pd.DataFrame({\n",
        "        'gender': [gender],\n",
        "        'age': [age],\n",
        "        'hypertension': [hypertension],\n",
        "        'heart_disease': [heart_disease],\n",
        "        'ever_married': [ever_married],\n",
        "        'work_type': [work_type],\n",
        "        'Residence_type': [Residence_type],\n",
        "        'avg_glucose_level': [avg_glucose_level],\n",
        "        'bmi': [bmi],\n",
        "        'smoking_status': [smoking_status]\n",
        "    })\n",
        "\n",
        "    # Apply preprocessing steps (use your pipeline or manual steps here)\n",
        "    # Example for illustration:\n",
        "    input_data[numerical_features] = scaler.transform(input_data[numerical_features])\n",
        "    encoded_input = encoder.transform(input_data[categorical_features])\n",
        "\n",
        "    # Predict using the model\n",
        "    prediction = best_model.predict(encoded_input)\n",
        "    return \"Stroke\" if prediction[0] == 1 else \"No Stroke\"\n",
        "\n",
        "# Create Gradio app\n",
        "interface = gr.Interface(\n",
        "    fn=predict_stroke,\n",
        "    inputs=[\n",
        "        gr.Dropdown(['Male', 'Female', 'Other'], label=\"Gender\"),\n",
        "        gr.Slider(0, 100, label=\"Age\"),\n",
        "        gr.Checkbox(label=\"Hypertension\"),\n",
        "        gr.Checkbox(label=\"Heart Disease\"),\n",
        "        gr.Dropdown(['Yes', 'No'], label=\"Ever Married\"),\n",
        "        gr.Dropdown(['Private', 'Self-employed', 'Govt_job', 'Children'], label=\"Work Type\"),\n",
        "        gr.Dropdown(['Urban', 'Rural'], label=\"Residence Type\"),\n",
        "        gr.Number(label=\"Avg Glucose Level\"),\n",
        "        gr.Number(label=\"BMI\"),\n",
        "        gr.Dropdown(['Smokes', 'Never smoked', 'Formerly smoked'], label=\"Smoking Status\")\n",
        "    ],\n",
        "    outputs=gr.Textbox(label=\"Prediction\")\n",
        ")\n",
        "\n",
        "\n",
        "interface.launch()\n"
      ],
      "metadata": {
        "colab": {
          "base_uri": "https://localhost:8080/",
          "height": 648
        },
        "id": "t-iUgSXFHUVC",
        "outputId": "c21b811d-20c5-44b9-e488-22dfa90614f6"
      },
      "execution_count": 41,
      "outputs": [
        {
          "output_type": "stream",
          "name": "stdout",
          "text": [
            "Running Gradio in a Colab notebook requires sharing enabled. Automatically setting `share=True` (you can turn this off by setting `share=False` in `launch()` explicitly).\n",
            "\n",
            "Colab notebook detected. To show errors in colab notebook, set debug=True in launch()\n",
            "* Running on public URL: https://02b19739c70786ba17.gradio.live\n",
            "\n",
            "This share link expires in 72 hours. For free permanent hosting and GPU upgrades, run `gradio deploy` from the terminal in the working directory to deploy to Hugging Face Spaces (https://huggingface.co/spaces)\n"
          ]
        },
        {
          "output_type": "display_data",
          "data": {
            "text/plain": [
              "<IPython.core.display.HTML object>"
            ],
            "text/html": [
              "<div><iframe src=\"https://02b19739c70786ba17.gradio.live\" width=\"100%\" height=\"500\" allow=\"autoplay; camera; microphone; clipboard-read; clipboard-write;\" frameborder=\"0\" allowfullscreen></iframe></div>"
            ]
          },
          "metadata": {}
        },
        {
          "output_type": "execute_result",
          "data": {
            "text/plain": []
          },
          "metadata": {},
          "execution_count": 41
        }
      ]
    },
    {
      "cell_type": "code",
      "source": [],
      "metadata": {
        "id": "8ZZXE9kUIZr2"
      },
      "execution_count": null,
      "outputs": []
    }
  ]
}